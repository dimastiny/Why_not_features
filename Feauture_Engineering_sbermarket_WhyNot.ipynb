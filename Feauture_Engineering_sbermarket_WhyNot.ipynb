{
 "cells": [
  {
   "cell_type": "markdown",
   "metadata": {},
   "source": [
    "### SberHackaton\n",
    "### team WhyNot\n",
    "In that task we have a datasets with information about customers purchases and we need to predict a list of purshases that current customer will commit next"
   ]
  },
  {
   "cell_type": "markdown",
   "metadata": {},
   "source": [
    "### 1. Download the datasets and observe"
   ]
  },
  {
   "cell_type": "code",
   "execution_count": 1,
   "metadata": {},
   "outputs": [],
   "source": [
    "import matplotlib.pyplot as plt\n",
    "import numpy as np\n",
    "import math\n",
    "from numpy.linalg import inv\n",
    "import random\n",
    "import pandas as pd"
   ]
  },
  {
   "cell_type": "markdown",
   "metadata": {},
   "source": [
    "### Let's analyze orders dataset"
   ]
  },
  {
   "cell_type": "code",
   "execution_count": 2,
   "metadata": {},
   "outputs": [
    {
     "data": {
      "text/html": [
       "<div>\n",
       "<style scoped>\n",
       "    .dataframe tbody tr th:only-of-type {\n",
       "        vertical-align: middle;\n",
       "    }\n",
       "\n",
       "    .dataframe tbody tr th {\n",
       "        vertical-align: top;\n",
       "    }\n",
       "\n",
       "    .dataframe thead th {\n",
       "        text-align: right;\n",
       "    }\n",
       "</style>\n",
       "<table border=\"1\" class=\"dataframe\">\n",
       "  <thead>\n",
       "    <tr style=\"text-align: right;\">\n",
       "      <th></th>\n",
       "      <th>user_id</th>\n",
       "      <th>order_id</th>\n",
       "      <th>order_created_time</th>\n",
       "      <th>retailer</th>\n",
       "      <th>store_id</th>\n",
       "      <th>platform</th>\n",
       "    </tr>\n",
       "  </thead>\n",
       "  <tbody>\n",
       "    <tr>\n",
       "      <th>1702431</th>\n",
       "      <td>1967319</td>\n",
       "      <td>10786605</td>\n",
       "      <td>2020-05-26 07:42:30</td>\n",
       "      <td>Ашан</td>\n",
       "      <td>273</td>\n",
       "      <td>web</td>\n",
       "    </tr>\n",
       "    <tr>\n",
       "      <th>129341</th>\n",
       "      <td>243809</td>\n",
       "      <td>14164051</td>\n",
       "      <td>2020-07-29 11:44:29</td>\n",
       "      <td>METRO</td>\n",
       "      <td>103</td>\n",
       "      <td>app</td>\n",
       "    </tr>\n",
       "    <tr>\n",
       "      <th>1910935</th>\n",
       "      <td>2184543</td>\n",
       "      <td>12235325</td>\n",
       "      <td>2020-06-18 20:45:25</td>\n",
       "      <td>METRO</td>\n",
       "      <td>82</td>\n",
       "      <td>web</td>\n",
       "    </tr>\n",
       "    <tr>\n",
       "      <th>690233</th>\n",
       "      <td>1098590</td>\n",
       "      <td>10977234</td>\n",
       "      <td>2020-05-29 09:35:41</td>\n",
       "      <td>Ашан</td>\n",
       "      <td>272</td>\n",
       "      <td>app</td>\n",
       "    </tr>\n",
       "    <tr>\n",
       "      <th>1124501</th>\n",
       "      <td>1499924</td>\n",
       "      <td>17043849</td>\n",
       "      <td>2020-09-20 12:14:57</td>\n",
       "      <td>METRO</td>\n",
       "      <td>12</td>\n",
       "      <td>web</td>\n",
       "    </tr>\n",
       "  </tbody>\n",
       "</table>\n",
       "</div>"
      ],
      "text/plain": [
       "         user_id  order_id   order_created_time retailer  store_id platform\n",
       "1702431  1967319  10786605  2020-05-26 07:42:30     Ашан       273      web\n",
       "129341    243809  14164051  2020-07-29 11:44:29    METRO       103      app\n",
       "1910935  2184543  12235325  2020-06-18 20:45:25    METRO        82      web\n",
       "690233   1098590  10977234  2020-05-29 09:35:41     Ашан       272      app\n",
       "1124501  1499924  17043849  2020-09-20 12:14:57    METRO        12      web"
      ]
     },
     "execution_count": 2,
     "metadata": {},
     "output_type": "execute_result"
    }
   ],
   "source": [
    "\n",
    "orders = pd.read_csv(r'C:/Users/zvere/Sber/test-recsys/kaggle_tab_1345/tab_1_orders.csv')\n",
    "city= pd.read_csv(r'C:/Users/zvere/Sber/test-recsys/tab_6_city.csv')\n",
    "\n",
    "orders.sample(5)"
   ]
  },
  {
   "cell_type": "code",
   "execution_count": 3,
   "metadata": {},
   "outputs": [
    {
     "data": {
      "text/html": [
       "<div>\n",
       "<style scoped>\n",
       "    .dataframe tbody tr th:only-of-type {\n",
       "        vertical-align: middle;\n",
       "    }\n",
       "\n",
       "    .dataframe tbody tr th {\n",
       "        vertical-align: top;\n",
       "    }\n",
       "\n",
       "    .dataframe thead th {\n",
       "        text-align: right;\n",
       "    }\n",
       "</style>\n",
       "<table border=\"1\" class=\"dataframe\">\n",
       "  <thead>\n",
       "    <tr style=\"text-align: right;\">\n",
       "      <th></th>\n",
       "      <th>store_id</th>\n",
       "      <th>city_name</th>\n",
       "    </tr>\n",
       "  </thead>\n",
       "  <tbody>\n",
       "    <tr>\n",
       "      <th>573</th>\n",
       "      <td>682</td>\n",
       "      <td>Москва</td>\n",
       "    </tr>\n",
       "    <tr>\n",
       "      <th>590</th>\n",
       "      <td>672</td>\n",
       "      <td>Москва</td>\n",
       "    </tr>\n",
       "    <tr>\n",
       "      <th>95</th>\n",
       "      <td>260</td>\n",
       "      <td>Самара</td>\n",
       "    </tr>\n",
       "    <tr>\n",
       "      <th>74</th>\n",
       "      <td>183</td>\n",
       "      <td>Москва</td>\n",
       "    </tr>\n",
       "    <tr>\n",
       "      <th>79</th>\n",
       "      <td>99</td>\n",
       "      <td>Казань</td>\n",
       "    </tr>\n",
       "  </tbody>\n",
       "</table>\n",
       "</div>"
      ],
      "text/plain": [
       "     store_id city_name\n",
       "573       682    Москва\n",
       "590       672    Москва\n",
       "95        260    Самара\n",
       "74        183    Москва\n",
       "79         99    Казань"
      ]
     },
     "execution_count": 3,
     "metadata": {},
     "output_type": "execute_result"
    }
   ],
   "source": [
    "city.sample(5)"
   ]
  },
  {
   "cell_type": "code",
   "execution_count": 4,
   "metadata": {},
   "outputs": [
    {
     "data": {
      "text/plain": [
       "(788, 2)"
      ]
     },
     "execution_count": 4,
     "metadata": {},
     "output_type": "execute_result"
    }
   ],
   "source": [
    "city.shape"
   ]
  },
  {
   "cell_type": "code",
   "execution_count": 5,
   "metadata": {},
   "outputs": [
    {
     "data": {
      "text/plain": [
       "(2461958, 6)"
      ]
     },
     "execution_count": 5,
     "metadata": {},
     "output_type": "execute_result"
    }
   ],
   "source": [
    "orders.shape"
   ]
  },
  {
   "cell_type": "markdown",
   "metadata": {},
   "source": [
    "### Let's add information about the city where every order was made"
   ]
  },
  {
   "cell_type": "code",
   "execution_count": 6,
   "metadata": {},
   "outputs": [
    {
     "data": {
      "text/html": [
       "<div>\n",
       "<style scoped>\n",
       "    .dataframe tbody tr th:only-of-type {\n",
       "        vertical-align: middle;\n",
       "    }\n",
       "\n",
       "    .dataframe tbody tr th {\n",
       "        vertical-align: top;\n",
       "    }\n",
       "\n",
       "    .dataframe thead th {\n",
       "        text-align: right;\n",
       "    }\n",
       "</style>\n",
       "<table border=\"1\" class=\"dataframe\">\n",
       "  <thead>\n",
       "    <tr style=\"text-align: right;\">\n",
       "      <th></th>\n",
       "      <th>user_id</th>\n",
       "      <th>order_id</th>\n",
       "      <th>order_created_time</th>\n",
       "      <th>retailer</th>\n",
       "      <th>store_id</th>\n",
       "      <th>platform</th>\n",
       "      <th>city_name</th>\n",
       "    </tr>\n",
       "  </thead>\n",
       "  <tbody>\n",
       "    <tr>\n",
       "      <th>893754</th>\n",
       "      <td>1643441</td>\n",
       "      <td>9023831</td>\n",
       "      <td>2020-04-25 12:19:31</td>\n",
       "      <td>Лента</td>\n",
       "      <td>166</td>\n",
       "      <td>web</td>\n",
       "      <td>Нижний Новгород</td>\n",
       "    </tr>\n",
       "    <tr>\n",
       "      <th>589669</th>\n",
       "      <td>1649169</td>\n",
       "      <td>16140666</td>\n",
       "      <td>2020-09-05 05:55:20</td>\n",
       "      <td>Лента</td>\n",
       "      <td>142</td>\n",
       "      <td>app</td>\n",
       "      <td>Волгоград</td>\n",
       "    </tr>\n",
       "    <tr>\n",
       "      <th>955998</th>\n",
       "      <td>1555694</td>\n",
       "      <td>8590379</td>\n",
       "      <td>2020-04-16 19:07:55</td>\n",
       "      <td>METRO</td>\n",
       "      <td>192</td>\n",
       "      <td>app</td>\n",
       "      <td>Ульяновск</td>\n",
       "    </tr>\n",
       "  </tbody>\n",
       "</table>\n",
       "</div>"
      ],
      "text/plain": [
       "        user_id  order_id   order_created_time retailer  store_id platform  \\\n",
       "893754  1643441   9023831  2020-04-25 12:19:31    Лента       166      web   \n",
       "589669  1649169  16140666  2020-09-05 05:55:20    Лента       142      app   \n",
       "955998  1555694   8590379  2020-04-16 19:07:55    METRO       192      app   \n",
       "\n",
       "              city_name  \n",
       "893754  Нижний Новгород  \n",
       "589669        Волгоград  \n",
       "955998        Ульяновск  "
      ]
     },
     "execution_count": 6,
     "metadata": {},
     "output_type": "execute_result"
    }
   ],
   "source": [
    "orders_c = pd.merge(orders,city,on = 'store_id')\n",
    "orders_c.sample(3)"
   ]
  },
  {
   "cell_type": "markdown",
   "metadata": {},
   "source": [
    "### Here we can see different retailers in different cities, so if a person from Абакан there is only point to predict that he wil buy something in \"Аллея\""
   ]
  },
  {
   "cell_type": "code",
   "execution_count": 7,
   "metadata": {},
   "outputs": [
    {
     "data": {
      "text/plain": [
       "city_name           retailer            \n",
       " Каменск-Уральский  Лента                     49\n",
       "Абакан              Аллея                    668\n",
       "Альметьевск         Лента                   1904\n",
       "Анадырь             ТЦ \"Новомариинский\"       46\n",
       "Архангельск         METRO                   1962\n",
       "                                            ... \n",
       "Якутск              УДАЧНАЯ ПОКУПКА          235\n",
       "                    МаксМаркет               231\n",
       "Ярославль           METRO                   9515\n",
       "                    Лента                   7717\n",
       "                    Ашан                    5305\n",
       "Name: retailer, Length: 246, dtype: int64"
      ]
     },
     "execution_count": 7,
     "metadata": {},
     "output_type": "execute_result"
    }
   ],
   "source": [
    "city_ratailers = orders_c.groupby(['city_name'])['retailer'].value_counts()\n",
    "city_ratailers"
   ]
  },
  {
   "cell_type": "markdown",
   "metadata": {},
   "source": [
    "### Let's calculate some additional info"
   ]
  },
  {
   "cell_type": "code",
   "execution_count": 8,
   "metadata": {},
   "outputs": [
    {
     "name": "stdout",
     "output_type": "stream",
     "text": [
      "number of users in the dataset :  753572\n"
     ]
    }
   ],
   "source": [
    "print('number of users in the dataset : ' ,orders_c.user_id.nunique()) "
   ]
  },
  {
   "cell_type": "markdown",
   "metadata": {},
   "source": [
    "### **We can see that number of users are less than number of purshases in the dataset so some customers made more than 1 purchase** \n",
    "\n",
    "### **Let's find users who made more purchases than others**"
   ]
  },
  {
   "cell_type": "code",
   "execution_count": 9,
   "metadata": {},
   "outputs": [
    {
     "data": {
      "text/plain": [
       "user_id\n",
       "72         1\n",
       "83         1\n",
       "142        1\n",
       "187        1\n",
       "224        1\n",
       "          ..\n",
       "3432957    1\n",
       "3432966    1\n",
       "3432977    1\n",
       "3433000    1\n",
       "3433023    1\n",
       "Name: order_id, Length: 753572, dtype: int64"
      ]
     },
     "execution_count": 9,
     "metadata": {},
     "output_type": "execute_result"
    }
   ],
   "source": [
    "orders_per_customers = orders_c.groupby(['user_id'])['order_id'].count()\n",
    "orders_per_customers"
   ]
  },
  {
   "cell_type": "code",
   "execution_count": 10,
   "metadata": {},
   "outputs": [
    {
     "data": {
      "text/plain": [
       "user_id\n",
       "260         2\n",
       "353         8\n",
       "400         6\n",
       "525         3\n",
       "576        10\n",
       "           ..\n",
       "3424582     2\n",
       "3427265     2\n",
       "3427304     2\n",
       "3432418     2\n",
       "3432861     2\n",
       "Name: order_id, Length: 355359, dtype: int64"
      ]
     },
     "execution_count": 10,
     "metadata": {},
     "output_type": "execute_result"
    }
   ],
   "source": [
    "orders_per_customers[orders_per_customers > 1]\n",
    "#there are a lot of people who made more than one purshase"
   ]
  },
  {
   "cell_type": "code",
   "execution_count": 11,
   "metadata": {},
   "outputs": [
    {
     "data": {
      "text/plain": [
       "user_id\n",
       "766        25\n",
       "1578       27\n",
       "1724       25\n",
       "2268       30\n",
       "2693       18\n",
       "           ..\n",
       "2987260    26\n",
       "3000696    19\n",
       "3010057    23\n",
       "3058685    52\n",
       "3116617    16\n",
       "Name: order_id, Length: 24406, dtype: int64"
      ]
     },
     "execution_count": 11,
     "metadata": {},
     "output_type": "execute_result"
    }
   ],
   "source": [
    "orders_per_customers[orders_per_customers > 15] \n",
    "#here we have people who made a lot of purshases"
   ]
  },
  {
   "cell_type": "markdown",
   "metadata": {},
   "source": [
    "### We can see that there are a lot of people who made a lot (more than 15) purchases"
   ]
  },
  {
   "cell_type": "markdown",
   "metadata": {},
   "source": [
    "\n",
    "### There is a list of people who made more purhases that others"
   ]
  },
  {
   "cell_type": "code",
   "execution_count": 12,
   "metadata": {},
   "outputs": [
    {
     "data": {
      "text/plain": [
       "user_id\n",
       "144291     106\n",
       "224747     196\n",
       "268890     101\n",
       "300421     185\n",
       "344968     205\n",
       "351997     144\n",
       "450083     115\n",
       "507109     101\n",
       "620405     143\n",
       "863370     107\n",
       "888699     102\n",
       "913694     133\n",
       "958080     152\n",
       "1028618    105\n",
       "1093518    140\n",
       "1167872    110\n",
       "1225517    106\n",
       "1478258    113\n",
       "1533234    107\n",
       "2253724    108\n",
       "2325790    102\n",
       "Name: order_id, dtype: int64"
      ]
     },
     "execution_count": 12,
     "metadata": {},
     "output_type": "execute_result"
    }
   ],
   "source": [
    "orders_per_customers[orders_per_customers > 100] "
   ]
  },
  {
   "cell_type": "markdown",
   "metadata": {},
   "source": [
    "### A person with ID 344968 made more (205) purchases than anyone else"
   ]
  },
  {
   "cell_type": "code",
   "execution_count": 13,
   "metadata": {},
   "outputs": [
    {
     "data": {
      "text/plain": [
       "user_id\n",
       "344968    205\n",
       "Name: order_id, dtype: int64"
      ]
     },
     "execution_count": 13,
     "metadata": {},
     "output_type": "execute_result"
    }
   ],
   "source": [
    "orders_per_customers[orders_per_customers == orders_per_customers.max()]  #there is a record"
   ]
  },
  {
   "cell_type": "code",
   "execution_count": 14,
   "metadata": {},
   "outputs": [
    {
     "name": "stdout",
     "output_type": "stream",
     "text": [
      "number of retailers is :  61\n"
     ]
    }
   ],
   "source": [
    "print('number of retailers is : ',orders_c.retailer.nunique())"
   ]
  },
  {
   "cell_type": "markdown",
   "metadata": {},
   "source": [
    "### There is 61 different retailer in our data. We can analyze how people bahave in different retailers"
   ]
  },
  {
   "cell_type": "code",
   "execution_count": 15,
   "metadata": {},
   "outputs": [
    {
     "data": {
      "text/plain": [
       "retailer\n",
       "220 ВОЛЬТ             33\n",
       "BILLA               2735\n",
       "Gipfel                11\n",
       "Home Market           17\n",
       "METRO            1369726\n",
       "                  ...   \n",
       "Улыбка Радуги        122\n",
       "Фреш25               132\n",
       "Хороший              546\n",
       "Шан                   59\n",
       "ЮгОпт                 14\n",
       "Name: order_id, Length: 61, dtype: int64"
      ]
     },
     "execution_count": 15,
     "metadata": {},
     "output_type": "execute_result"
    }
   ],
   "source": [
    "retailer_total = orders_c.groupby(['retailer'])['order_id'].count()\n",
    "#here we have number of purshases in different retailers\n",
    "retailer_total"
   ]
  },
  {
   "cell_type": "markdown",
   "metadata": {},
   "source": [
    "### Let's find 3 most popular retailers for customers"
   ]
  },
  {
   "cell_type": "code",
   "execution_count": 16,
   "metadata": {},
   "outputs": [
    {
     "data": {
      "text/plain": [
       "retailer\n",
       "METRO    1369726\n",
       "Name: order_id, dtype: int64"
      ]
     },
     "execution_count": 16,
     "metadata": {},
     "output_type": "execute_result"
    }
   ],
   "source": [
    "retailer_total[retailer_total == retailer_total.max()] "
   ]
  },
  {
   "cell_type": "markdown",
   "metadata": {},
   "source": [
    "### So top 1 retailer is METRO"
   ]
  },
  {
   "cell_type": "code",
   "execution_count": 17,
   "metadata": {},
   "outputs": [
    {
     "data": {
      "text/plain": [
       "retailer\n",
       "METRO    1369726\n",
       "Ашан      401004\n",
       "Лента     653387\n",
       "Name: order_id, dtype: int64"
      ]
     },
     "execution_count": 17,
     "metadata": {},
     "output_type": "execute_result"
    }
   ],
   "source": [
    "retailer_total[retailer_total > 100000 ] "
   ]
  },
  {
   "cell_type": "markdown",
   "metadata": {},
   "source": [
    "### TOP 3 retailers are : Metro, Ашан, Лента \n",
    "\n",
    "### bacically product markets are more popular than any other retailers"
   ]
  },
  {
   "cell_type": "code",
   "execution_count": 18,
   "metadata": {},
   "outputs": [
    {
     "name": "stdout",
     "output_type": "stream",
     "text": [
      "number of platforms is :  3\n"
     ]
    }
   ],
   "source": [
    "print('number of platforms is : ',orders_c.platform.nunique())"
   ]
  },
  {
   "cell_type": "markdown",
   "metadata": {},
   "source": [
    "### **We have only 3 platforms so we can analyze how many customers made their purchases there**"
   ]
  },
  {
   "cell_type": "code",
   "execution_count": 19,
   "metadata": {},
   "outputs": [
    {
     "data": {
      "text/plain": [
       "platform\n",
       "app          1872404\n",
       "undefined      76536\n",
       "web           513018\n",
       "Name: user_id, dtype: int64"
      ]
     },
     "execution_count": 19,
     "metadata": {},
     "output_type": "execute_result"
    }
   ],
   "source": [
    "orders_c.groupby(['platform'])['user_id'].count()"
   ]
  },
  {
   "cell_type": "markdown",
   "metadata": {},
   "source": [
    "### **We can clearly see that purhases in the app are more preferable than purchases in web, also there is 76536 rows with underfined platform **"
   ]
  },
  {
   "cell_type": "markdown",
   "metadata": {},
   "source": [
    "//------------------------------------------------------------------------------------------------------------------------//"
   ]
  },
  {
   "cell_type": "markdown",
   "metadata": {},
   "source": [
    "### Let's analyze products dataset"
   ]
  },
  {
   "cell_type": "code",
   "execution_count": 20,
   "metadata": {},
   "outputs": [
    {
     "data": {
      "text/html": [
       "<div>\n",
       "<style scoped>\n",
       "    .dataframe tbody tr th:only-of-type {\n",
       "        vertical-align: middle;\n",
       "    }\n",
       "\n",
       "    .dataframe tbody tr th {\n",
       "        vertical-align: top;\n",
       "    }\n",
       "\n",
       "    .dataframe thead th {\n",
       "        text-align: right;\n",
       "    }\n",
       "</style>\n",
       "<table border=\"1\" class=\"dataframe\">\n",
       "  <thead>\n",
       "    <tr style=\"text-align: right;\">\n",
       "      <th></th>\n",
       "      <th>user_id</th>\n",
       "      <th>order_id</th>\n",
       "      <th>line_item_id</th>\n",
       "      <th>price</th>\n",
       "      <th>quantity</th>\n",
       "      <th>discount</th>\n",
       "      <th>product_name</th>\n",
       "      <th>product_id</th>\n",
       "      <th>brand_name</th>\n",
       "      <th>master_category_id</th>\n",
       "      <th>parent_category_id</th>\n",
       "    </tr>\n",
       "  </thead>\n",
       "  <tbody>\n",
       "    <tr>\n",
       "      <th>204339</th>\n",
       "      <td>553653</td>\n",
       "      <td>5508213</td>\n",
       "      <td>28986597</td>\n",
       "      <td>103.000000</td>\n",
       "      <td>1</td>\n",
       "      <td>0.000000</td>\n",
       "      <td>Рис Мистраль Кубань круглозерный белый 900 г</td>\n",
       "      <td>66843</td>\n",
       "      <td>Мистраль</td>\n",
       "      <td>580.0</td>\n",
       "      <td>9</td>\n",
       "    </tr>\n",
       "    <tr>\n",
       "      <th>278805</th>\n",
       "      <td>712744</td>\n",
       "      <td>5601798</td>\n",
       "      <td>28868664</td>\n",
       "      <td>94.900002</td>\n",
       "      <td>1</td>\n",
       "      <td>5.000000</td>\n",
       "      <td>Семечки подсолнечные От Мартина Отборные жарен...</td>\n",
       "      <td>58715</td>\n",
       "      <td>От Мартина</td>\n",
       "      <td>97.0</td>\n",
       "      <td>94</td>\n",
       "    </tr>\n",
       "    <tr>\n",
       "      <th>214551</th>\n",
       "      <td>617342</td>\n",
       "      <td>5451597</td>\n",
       "      <td>29231792</td>\n",
       "      <td>165.520004</td>\n",
       "      <td>1</td>\n",
       "      <td>0.000000</td>\n",
       "      <td>Перец оранжевый</td>\n",
       "      <td>94301</td>\n",
       "      <td>Без бренда</td>\n",
       "      <td>85.0</td>\n",
       "      <td>84</td>\n",
       "    </tr>\n",
       "    <tr>\n",
       "      <th>163996</th>\n",
       "      <td>365012</td>\n",
       "      <td>5265273</td>\n",
       "      <td>28947765</td>\n",
       "      <td>43.189999</td>\n",
       "      <td>1</td>\n",
       "      <td>0.000000</td>\n",
       "      <td>Горох Fine Life колотый 450 г</td>\n",
       "      <td>15427</td>\n",
       "      <td>Fine Life</td>\n",
       "      <td>580.0</td>\n",
       "      <td>9</td>\n",
       "    </tr>\n",
       "    <tr>\n",
       "      <th>169888</th>\n",
       "      <td>380175</td>\n",
       "      <td>5155477</td>\n",
       "      <td>28695934</td>\n",
       "      <td>24.990000</td>\n",
       "      <td>1</td>\n",
       "      <td>23.700001</td>\n",
       "      <td>Паштет Hame Деликатесный из мяса птицы</td>\n",
       "      <td>64416</td>\n",
       "      <td>Hame</td>\n",
       "      <td>46.0</td>\n",
       "      <td>42</td>\n",
       "    </tr>\n",
       "  </tbody>\n",
       "</table>\n",
       "</div>"
      ],
      "text/plain": [
       "        user_id  order_id  line_item_id       price  quantity   discount  \\\n",
       "204339   553653   5508213      28986597  103.000000         1   0.000000   \n",
       "278805   712744   5601798      28868664   94.900002         1   5.000000   \n",
       "214551   617342   5451597      29231792  165.520004         1   0.000000   \n",
       "163996   365012   5265273      28947765   43.189999         1   0.000000   \n",
       "169888   380175   5155477      28695934   24.990000         1  23.700001   \n",
       "\n",
       "                                             product_name  product_id  \\\n",
       "204339       Рис Мистраль Кубань круглозерный белый 900 г       66843   \n",
       "278805  Семечки подсолнечные От Мартина Отборные жарен...       58715   \n",
       "214551                                    Перец оранжевый       94301   \n",
       "163996                      Горох Fine Life колотый 450 г       15427   \n",
       "169888             Паштет Hame Деликатесный из мяса птицы       64416   \n",
       "\n",
       "        brand_name  master_category_id  parent_category_id  \n",
       "204339    Мистраль               580.0                   9  \n",
       "278805  От Мартина                97.0                  94  \n",
       "214551  Без бренда                85.0                  84  \n",
       "163996   Fine Life               580.0                   9  \n",
       "169888        Hame                46.0                  42  "
      ]
     },
     "execution_count": 20,
     "metadata": {},
     "output_type": "execute_result"
    }
   ],
   "source": [
    "products = pd.read_csv(r'C:/Users/zvere/Sber/test-recsys/sbermarket_tab_2_1/tab_2_products_2020-01-01.csv')\n",
    "products.sample(5)"
   ]
  },
  {
   "cell_type": "markdown",
   "metadata": {},
   "source": [
    "### **there are some outliers in discount column (negative values) let's filter outliers (negative discount will be equal to zero)**"
   ]
  },
  {
   "cell_type": "code",
   "execution_count": 21,
   "metadata": {},
   "outputs": [
    {
     "name": "stderr",
     "output_type": "stream",
     "text": [
      "C:\\Users\\zvere\\anaconda3\\lib\\site-packages\\pandas\\core\\generic.py:5159: SettingWithCopyWarning: \n",
      "A value is trying to be set on a copy of a slice from a DataFrame.\n",
      "Try using .loc[row_indexer,col_indexer] = value instead\n",
      "\n",
      "See the caveats in the documentation: https://pandas.pydata.org/pandas-docs/stable/user_guide/indexing.html#returning-a-view-versus-a-copy\n",
      "  self[name] = value\n"
     ]
    }
   ],
   "source": [
    "# products['discount_real'] = (products.discount >= 0)\n",
    "\n",
    "# products[products.discount_real == False].discount == 0\n",
    "products[ (products.discount < 0)].discount = 0\n"
   ]
  },
  {
   "cell_type": "code",
   "execution_count": 22,
   "metadata": {},
   "outputs": [
    {
     "data": {
      "text/html": [
       "<div>\n",
       "<style scoped>\n",
       "    .dataframe tbody tr th:only-of-type {\n",
       "        vertical-align: middle;\n",
       "    }\n",
       "\n",
       "    .dataframe tbody tr th {\n",
       "        vertical-align: top;\n",
       "    }\n",
       "\n",
       "    .dataframe thead th {\n",
       "        text-align: right;\n",
       "    }\n",
       "</style>\n",
       "<table border=\"1\" class=\"dataframe\">\n",
       "  <thead>\n",
       "    <tr style=\"text-align: right;\">\n",
       "      <th></th>\n",
       "      <th>user_id</th>\n",
       "      <th>order_id</th>\n",
       "      <th>line_item_id</th>\n",
       "      <th>price</th>\n",
       "      <th>quantity</th>\n",
       "      <th>discount</th>\n",
       "      <th>product_name</th>\n",
       "      <th>product_id</th>\n",
       "      <th>brand_name</th>\n",
       "      <th>master_category_id</th>\n",
       "      <th>parent_category_id</th>\n",
       "    </tr>\n",
       "  </thead>\n",
       "  <tbody>\n",
       "    <tr>\n",
       "      <th>0</th>\n",
       "      <td>525</td>\n",
       "      <td>5354800</td>\n",
       "      <td>28381452</td>\n",
       "      <td>116.000000</td>\n",
       "      <td>4</td>\n",
       "      <td>0.000000</td>\n",
       "      <td>Лазанья Золотой Петушок мясной слоеный пирог з...</td>\n",
       "      <td>37548</td>\n",
       "      <td>Золотой Петушок</td>\n",
       "      <td>101.0</td>\n",
       "      <td>99</td>\n",
       "    </tr>\n",
       "    <tr>\n",
       "      <th>1</th>\n",
       "      <td>525</td>\n",
       "      <td>5354800</td>\n",
       "      <td>29242911</td>\n",
       "      <td>56.990002</td>\n",
       "      <td>2</td>\n",
       "      <td>13.080000</td>\n",
       "      <td>Хлеб Хлебный Дом Геркулес зерновой с отрубями ...</td>\n",
       "      <td>5636</td>\n",
       "      <td>Хлебный Дом</td>\n",
       "      <td>596.0</td>\n",
       "      <td>51</td>\n",
       "    </tr>\n",
       "    <tr>\n",
       "      <th>2</th>\n",
       "      <td>525</td>\n",
       "      <td>5354800</td>\n",
       "      <td>29242919</td>\n",
       "      <td>64.989998</td>\n",
       "      <td>2</td>\n",
       "      <td>40.020000</td>\n",
       "      <td>Тортилья Delicados оригинальная пшеничная</td>\n",
       "      <td>22107</td>\n",
       "      <td>Delicados</td>\n",
       "      <td>596.0</td>\n",
       "      <td>51</td>\n",
       "    </tr>\n",
       "    <tr>\n",
       "      <th>3</th>\n",
       "      <td>525</td>\n",
       "      <td>5354800</td>\n",
       "      <td>29243785</td>\n",
       "      <td>44.990002</td>\n",
       "      <td>6</td>\n",
       "      <td>0.000000</td>\n",
       "      <td>Вода питьевая минеральная BonAqua газированная...</td>\n",
       "      <td>2530</td>\n",
       "      <td>BonAqua</td>\n",
       "      <td>77.0</td>\n",
       "      <td>74</td>\n",
       "    </tr>\n",
       "    <tr>\n",
       "      <th>4</th>\n",
       "      <td>525</td>\n",
       "      <td>5354800</td>\n",
       "      <td>29244246</td>\n",
       "      <td>65.900002</td>\n",
       "      <td>6</td>\n",
       "      <td>30.990000</td>\n",
       "      <td>Газированный напиток Mirinda Апельсин 1,5 л</td>\n",
       "      <td>3818486</td>\n",
       "      <td>Mirinda</td>\n",
       "      <td>76.0</td>\n",
       "      <td>74</td>\n",
       "    </tr>\n",
       "    <tr>\n",
       "      <th>...</th>\n",
       "      <td>...</td>\n",
       "      <td>...</td>\n",
       "      <td>...</td>\n",
       "      <td>...</td>\n",
       "      <td>...</td>\n",
       "      <td>...</td>\n",
       "      <td>...</td>\n",
       "      <td>...</td>\n",
       "      <td>...</td>\n",
       "      <td>...</td>\n",
       "      <td>...</td>\n",
       "    </tr>\n",
       "    <tr>\n",
       "      <th>303662</th>\n",
       "      <td>725964</td>\n",
       "      <td>5652846</td>\n",
       "      <td>29327078</td>\n",
       "      <td>52.639999</td>\n",
       "      <td>2</td>\n",
       "      <td>23.780001</td>\n",
       "      <td>Черная смородина Fine life быстрозамороженная</td>\n",
       "      <td>94654</td>\n",
       "      <td>Fine Life</td>\n",
       "      <td>592.0</td>\n",
       "      <td>90</td>\n",
       "    </tr>\n",
       "    <tr>\n",
       "      <th>303663</th>\n",
       "      <td>725964</td>\n",
       "      <td>5652846</td>\n",
       "      <td>29327108</td>\n",
       "      <td>29.459999</td>\n",
       "      <td>1</td>\n",
       "      <td>39.400002</td>\n",
       "      <td>Помидоры черри красные 250 г</td>\n",
       "      <td>687</td>\n",
       "      <td>Без бренда</td>\n",
       "      <td>85.0</td>\n",
       "      <td>84</td>\n",
       "    </tr>\n",
       "    <tr>\n",
       "      <th>303664</th>\n",
       "      <td>725964</td>\n",
       "      <td>5652846</td>\n",
       "      <td>29327109</td>\n",
       "      <td>29.480000</td>\n",
       "      <td>1</td>\n",
       "      <td>29.580000</td>\n",
       "      <td>Помидоры черри сливовидные 250 г</td>\n",
       "      <td>4830888</td>\n",
       "      <td>Без бренда</td>\n",
       "      <td>85.0</td>\n",
       "      <td>84</td>\n",
       "    </tr>\n",
       "    <tr>\n",
       "      <th>303665</th>\n",
       "      <td>725964</td>\n",
       "      <td>5652846</td>\n",
       "      <td>29327192</td>\n",
       "      <td>83.220001</td>\n",
       "      <td>1</td>\n",
       "      <td>21.209999</td>\n",
       "      <td>Сыр Bonfesto Моцарелла mini 45% 100 г бзмж</td>\n",
       "      <td>26739</td>\n",
       "      <td>Bonfesto</td>\n",
       "      <td>38.0</td>\n",
       "      <td>35</td>\n",
       "    </tr>\n",
       "    <tr>\n",
       "      <th>303666</th>\n",
       "      <td>725964</td>\n",
       "      <td>5652846</td>\n",
       "      <td>29434188</td>\n",
       "      <td>138.009995</td>\n",
       "      <td>1</td>\n",
       "      <td>0.000000</td>\n",
       "      <td>Сыр Galbani Mozzarella Ball 45% 125 г бзмж</td>\n",
       "      <td>407</td>\n",
       "      <td>Galbani</td>\n",
       "      <td>38.0</td>\n",
       "      <td>35</td>\n",
       "    </tr>\n",
       "  </tbody>\n",
       "</table>\n",
       "<p>303667 rows × 11 columns</p>\n",
       "</div>"
      ],
      "text/plain": [
       "        user_id  order_id  line_item_id       price  quantity   discount  \\\n",
       "0           525   5354800      28381452  116.000000         4   0.000000   \n",
       "1           525   5354800      29242911   56.990002         2  13.080000   \n",
       "2           525   5354800      29242919   64.989998         2  40.020000   \n",
       "3           525   5354800      29243785   44.990002         6   0.000000   \n",
       "4           525   5354800      29244246   65.900002         6  30.990000   \n",
       "...         ...       ...           ...         ...       ...        ...   \n",
       "303662   725964   5652846      29327078   52.639999         2  23.780001   \n",
       "303663   725964   5652846      29327108   29.459999         1  39.400002   \n",
       "303664   725964   5652846      29327109   29.480000         1  29.580000   \n",
       "303665   725964   5652846      29327192   83.220001         1  21.209999   \n",
       "303666   725964   5652846      29434188  138.009995         1   0.000000   \n",
       "\n",
       "                                             product_name  product_id  \\\n",
       "0       Лазанья Золотой Петушок мясной слоеный пирог з...       37548   \n",
       "1       Хлеб Хлебный Дом Геркулес зерновой с отрубями ...        5636   \n",
       "2               Тортилья Delicados оригинальная пшеничная       22107   \n",
       "3       Вода питьевая минеральная BonAqua газированная...        2530   \n",
       "4             Газированный напиток Mirinda Апельсин 1,5 л     3818486   \n",
       "...                                                   ...         ...   \n",
       "303662      Черная смородина Fine life быстрозамороженная       94654   \n",
       "303663                       Помидоры черри красные 250 г         687   \n",
       "303664                   Помидоры черри сливовидные 250 г     4830888   \n",
       "303665         Сыр Bonfesto Моцарелла mini 45% 100 г бзмж       26739   \n",
       "303666         Сыр Galbani Mozzarella Ball 45% 125 г бзмж         407   \n",
       "\n",
       "             brand_name  master_category_id  parent_category_id  \n",
       "0       Золотой Петушок               101.0                  99  \n",
       "1           Хлебный Дом               596.0                  51  \n",
       "2             Delicados               596.0                  51  \n",
       "3               BonAqua                77.0                  74  \n",
       "4               Mirinda                76.0                  74  \n",
       "...                 ...                 ...                 ...  \n",
       "303662        Fine Life               592.0                  90  \n",
       "303663       Без бренда                85.0                  84  \n",
       "303664       Без бренда                85.0                  84  \n",
       "303665         Bonfesto                38.0                  35  \n",
       "303666          Galbani                38.0                  35  \n",
       "\n",
       "[303667 rows x 11 columns]"
      ]
     },
     "execution_count": 22,
     "metadata": {},
     "output_type": "execute_result"
    }
   ],
   "source": [
    "products"
   ]
  },
  {
   "cell_type": "code",
   "execution_count": 23,
   "metadata": {},
   "outputs": [
    {
     "data": {
      "text/plain": [
       "(303667, 11)"
      ]
     },
     "execution_count": 23,
     "metadata": {},
     "output_type": "execute_result"
    }
   ],
   "source": [
    "products.shape"
   ]
  },
  {
   "cell_type": "code",
   "execution_count": 24,
   "metadata": {},
   "outputs": [
    {
     "data": {
      "text/plain": [
       "303667"
      ]
     },
     "execution_count": 24,
     "metadata": {},
     "output_type": "execute_result"
    }
   ],
   "source": [
    "products.line_item_id.nunique()"
   ]
  },
  {
   "cell_type": "code",
   "execution_count": 25,
   "metadata": {},
   "outputs": [
    {
     "data": {
      "text/plain": [
       "12154"
      ]
     },
     "execution_count": 25,
     "metadata": {},
     "output_type": "execute_result"
    }
   ],
   "source": [
    "products.order_id.nunique()"
   ]
  },
  {
   "cell_type": "code",
   "execution_count": 26,
   "metadata": {},
   "outputs": [
    {
     "data": {
      "text/plain": [
       "10580"
      ]
     },
     "execution_count": 26,
     "metadata": {},
     "output_type": "execute_result"
    }
   ],
   "source": [
    "products.user_id.nunique()"
   ]
  },
  {
   "cell_type": "markdown",
   "metadata": {},
   "source": [
    "### Let's analyze how many items in every order and calculate the price for every order\n",
    "### but first we need to create a new column **cost_real** what will include the price ( taking the discount into account) multiplied by quantity "
   ]
  },
  {
   "cell_type": "code",
   "execution_count": 27,
   "metadata": {},
   "outputs": [
    {
     "data": {
      "text/html": [
       "<div>\n",
       "<style scoped>\n",
       "    .dataframe tbody tr th:only-of-type {\n",
       "        vertical-align: middle;\n",
       "    }\n",
       "\n",
       "    .dataframe tbody tr th {\n",
       "        vertical-align: top;\n",
       "    }\n",
       "\n",
       "    .dataframe thead th {\n",
       "        text-align: right;\n",
       "    }\n",
       "</style>\n",
       "<table border=\"1\" class=\"dataframe\">\n",
       "  <thead>\n",
       "    <tr style=\"text-align: right;\">\n",
       "      <th></th>\n",
       "      <th>user_id</th>\n",
       "      <th>order_id</th>\n",
       "      <th>line_item_id</th>\n",
       "      <th>price</th>\n",
       "      <th>quantity</th>\n",
       "      <th>discount</th>\n",
       "      <th>product_name</th>\n",
       "      <th>product_id</th>\n",
       "      <th>brand_name</th>\n",
       "      <th>master_category_id</th>\n",
       "      <th>parent_category_id</th>\n",
       "      <th>cost_real</th>\n",
       "    </tr>\n",
       "  </thead>\n",
       "  <tbody>\n",
       "    <tr>\n",
       "      <th>0</th>\n",
       "      <td>525</td>\n",
       "      <td>5354800</td>\n",
       "      <td>28381452</td>\n",
       "      <td>116.000000</td>\n",
       "      <td>4</td>\n",
       "      <td>0.00</td>\n",
       "      <td>Лазанья Золотой Петушок мясной слоеный пирог з...</td>\n",
       "      <td>37548</td>\n",
       "      <td>Золотой Петушок</td>\n",
       "      <td>101.0</td>\n",
       "      <td>99</td>\n",
       "      <td>464.000000</td>\n",
       "    </tr>\n",
       "    <tr>\n",
       "      <th>1</th>\n",
       "      <td>525</td>\n",
       "      <td>5354800</td>\n",
       "      <td>29242911</td>\n",
       "      <td>56.990002</td>\n",
       "      <td>2</td>\n",
       "      <td>13.08</td>\n",
       "      <td>Хлеб Хлебный Дом Геркулес зерновой с отрубями ...</td>\n",
       "      <td>5636</td>\n",
       "      <td>Хлебный Дом</td>\n",
       "      <td>596.0</td>\n",
       "      <td>51</td>\n",
       "      <td>87.820004</td>\n",
       "    </tr>\n",
       "    <tr>\n",
       "      <th>2</th>\n",
       "      <td>525</td>\n",
       "      <td>5354800</td>\n",
       "      <td>29242919</td>\n",
       "      <td>64.989998</td>\n",
       "      <td>2</td>\n",
       "      <td>40.02</td>\n",
       "      <td>Тортилья Delicados оригинальная пшеничная</td>\n",
       "      <td>22107</td>\n",
       "      <td>Delicados</td>\n",
       "      <td>596.0</td>\n",
       "      <td>51</td>\n",
       "      <td>49.939995</td>\n",
       "    </tr>\n",
       "  </tbody>\n",
       "</table>\n",
       "</div>"
      ],
      "text/plain": [
       "   user_id  order_id  line_item_id       price  quantity  discount  \\\n",
       "0      525   5354800      28381452  116.000000         4      0.00   \n",
       "1      525   5354800      29242911   56.990002         2     13.08   \n",
       "2      525   5354800      29242919   64.989998         2     40.02   \n",
       "\n",
       "                                        product_name  product_id  \\\n",
       "0  Лазанья Золотой Петушок мясной слоеный пирог з...       37548   \n",
       "1  Хлеб Хлебный Дом Геркулес зерновой с отрубями ...        5636   \n",
       "2          Тортилья Delicados оригинальная пшеничная       22107   \n",
       "\n",
       "        brand_name  master_category_id  parent_category_id   cost_real  \n",
       "0  Золотой Петушок               101.0                  99  464.000000  \n",
       "1      Хлебный Дом               596.0                  51   87.820004  \n",
       "2        Delicados               596.0                  51   49.939995  "
      ]
     },
     "execution_count": 27,
     "metadata": {},
     "output_type": "execute_result"
    }
   ],
   "source": [
    "products['cost_real'] = (products.price - products.discount) * products.quantity\n",
    "products.head(3)"
   ]
  },
  {
   "cell_type": "markdown",
   "metadata": {},
   "source": [
    "### Some additional info about products dataset"
   ]
  },
  {
   "cell_type": "code",
   "execution_count": 28,
   "metadata": {},
   "outputs": [
    {
     "name": "stdout",
     "output_type": "stream",
     "text": [
      "the number of unique products names is 26763\n"
     ]
    }
   ],
   "source": [
    "print('the number of unique products names is', products.product_name.nunique())"
   ]
  },
  {
   "cell_type": "code",
   "execution_count": 29,
   "metadata": {},
   "outputs": [
    {
     "name": "stdout",
     "output_type": "stream",
     "text": [
      "the number of unique customers is 10580\n"
     ]
    }
   ],
   "source": [
    "print('the number of unique customers is', products.user_id.nunique())"
   ]
  },
  {
   "cell_type": "markdown",
   "metadata": {},
   "source": [
    "### **Now when we know the number of products and cost we can determine the most expensive products and it's price**"
   ]
  },
  {
   "cell_type": "code",
   "execution_count": 30,
   "metadata": {},
   "outputs": [
    {
     "data": {
      "text/html": [
       "<div>\n",
       "<style scoped>\n",
       "    .dataframe tbody tr th:only-of-type {\n",
       "        vertical-align: middle;\n",
       "    }\n",
       "\n",
       "    .dataframe tbody tr th {\n",
       "        vertical-align: top;\n",
       "    }\n",
       "\n",
       "    .dataframe thead th {\n",
       "        text-align: right;\n",
       "    }\n",
       "</style>\n",
       "<table border=\"1\" class=\"dataframe\">\n",
       "  <thead>\n",
       "    <tr style=\"text-align: right;\">\n",
       "      <th></th>\n",
       "      <th>user_id</th>\n",
       "      <th>order_id</th>\n",
       "      <th>line_item_id</th>\n",
       "      <th>price</th>\n",
       "      <th>quantity</th>\n",
       "      <th>discount</th>\n",
       "      <th>product_name</th>\n",
       "      <th>product_id</th>\n",
       "      <th>brand_name</th>\n",
       "      <th>master_category_id</th>\n",
       "      <th>parent_category_id</th>\n",
       "      <th>cost_real</th>\n",
       "    </tr>\n",
       "  </thead>\n",
       "  <tbody>\n",
       "    <tr>\n",
       "      <th>45062</th>\n",
       "      <td>137924</td>\n",
       "      <td>5631897</td>\n",
       "      <td>29129595</td>\n",
       "      <td>159962.046875</td>\n",
       "      <td>1</td>\n",
       "      <td>39.490002</td>\n",
       "      <td>Голень индейки Индилайт без кости охлажденная ...</td>\n",
       "      <td>3818829</td>\n",
       "      <td>Индилайт</td>\n",
       "      <td>122.0</td>\n",
       "      <td>119</td>\n",
       "      <td>159922.556873</td>\n",
       "    </tr>\n",
       "  </tbody>\n",
       "</table>\n",
       "</div>"
      ],
      "text/plain": [
       "       user_id  order_id  line_item_id          price  quantity   discount  \\\n",
       "45062   137924   5631897      29129595  159962.046875         1  39.490002   \n",
       "\n",
       "                                            product_name  product_id  \\\n",
       "45062  Голень индейки Индилайт без кости охлажденная ...     3818829   \n",
       "\n",
       "      brand_name  master_category_id  parent_category_id      cost_real  \n",
       "45062   Индилайт               122.0                 119  159922.556873  "
      ]
     },
     "execution_count": 30,
     "metadata": {},
     "output_type": "execute_result"
    }
   ],
   "source": [
    "products[products.cost_real == products.cost_real.max()] ## the most expensive "
   ]
  },
  {
   "cell_type": "code",
   "execution_count": 31,
   "metadata": {},
   "outputs": [
    {
     "data": {
      "text/plain": [
       "159962.046875"
      ]
     },
     "execution_count": 31,
     "metadata": {},
     "output_type": "execute_result"
    }
   ],
   "source": [
    "most_expensive_product_cost = products.groupby(['product_name'])['price'].max().max()\n",
    "most_expensive_product_cost"
   ]
  },
  {
   "cell_type": "markdown",
   "metadata": {},
   "source": [
    "### **We can determine the most expensive products and we can make predictions that people who can buy such an espensive products will buy something in the same field with the same price**"
   ]
  },
  {
   "cell_type": "code",
   "execution_count": 32,
   "metadata": {},
   "outputs": [
    {
     "data": {
      "text/html": [
       "<div>\n",
       "<style scoped>\n",
       "    .dataframe tbody tr th:only-of-type {\n",
       "        vertical-align: middle;\n",
       "    }\n",
       "\n",
       "    .dataframe tbody tr th {\n",
       "        vertical-align: top;\n",
       "    }\n",
       "\n",
       "    .dataframe thead th {\n",
       "        text-align: right;\n",
       "    }\n",
       "</style>\n",
       "<table border=\"1\" class=\"dataframe\">\n",
       "  <thead>\n",
       "    <tr style=\"text-align: right;\">\n",
       "      <th></th>\n",
       "      <th>user_id</th>\n",
       "      <th>order_id</th>\n",
       "      <th>line_item_id</th>\n",
       "      <th>price</th>\n",
       "      <th>quantity</th>\n",
       "      <th>discount</th>\n",
       "      <th>product_name</th>\n",
       "      <th>product_id</th>\n",
       "      <th>brand_name</th>\n",
       "      <th>master_category_id</th>\n",
       "      <th>parent_category_id</th>\n",
       "      <th>cost_real</th>\n",
       "    </tr>\n",
       "  </thead>\n",
       "  <tbody>\n",
       "    <tr>\n",
       "      <th>355</th>\n",
       "      <td>3225</td>\n",
       "      <td>5350970</td>\n",
       "      <td>28436606</td>\n",
       "      <td>1189.010010</td>\n",
       "      <td>1</td>\n",
       "      <td>510.0</td>\n",
       "      <td>Креветки Бухта изобилия королевская 50/70</td>\n",
       "      <td>5368</td>\n",
       "      <td>Agama</td>\n",
       "      <td>118.0</td>\n",
       "      <td>112</td>\n",
       "      <td>679.010010</td>\n",
       "    </tr>\n",
       "    <tr>\n",
       "      <th>453</th>\n",
       "      <td>3674</td>\n",
       "      <td>5307004</td>\n",
       "      <td>28931590</td>\n",
       "      <td>1923.979980</td>\n",
       "      <td>1</td>\n",
       "      <td>0.0</td>\n",
       "      <td>Глазной мускул говяжий Заречное охлажденный ~2...</td>\n",
       "      <td>5214742</td>\n",
       "      <td>Заречное</td>\n",
       "      <td>120.0</td>\n",
       "      <td>119</td>\n",
       "      <td>1923.979980</td>\n",
       "    </tr>\n",
       "    <tr>\n",
       "      <th>454</th>\n",
       "      <td>3674</td>\n",
       "      <td>5307004</td>\n",
       "      <td>28932555</td>\n",
       "      <td>2150.189941</td>\n",
       "      <td>1</td>\n",
       "      <td>0.0</td>\n",
       "      <td>Лопатка говяжья Мираторг без кости замороженна...</td>\n",
       "      <td>5063231</td>\n",
       "      <td>Мираторг</td>\n",
       "      <td>121.0</td>\n",
       "      <td>119</td>\n",
       "      <td>2150.189941</td>\n",
       "    </tr>\n",
       "  </tbody>\n",
       "</table>\n",
       "</div>"
      ],
      "text/plain": [
       "     user_id  order_id  line_item_id        price  quantity  discount  \\\n",
       "355     3225   5350970      28436606  1189.010010         1     510.0   \n",
       "453     3674   5307004      28931590  1923.979980         1       0.0   \n",
       "454     3674   5307004      28932555  2150.189941         1       0.0   \n",
       "\n",
       "                                          product_name  product_id brand_name  \\\n",
       "355          Креветки Бухта изобилия королевская 50/70        5368      Agama   \n",
       "453  Глазной мускул говяжий Заречное охлажденный ~2...     5214742   Заречное   \n",
       "454  Лопатка говяжья Мираторг без кости замороженна...     5063231   Мираторг   \n",
       "\n",
       "     master_category_id  parent_category_id    cost_real  \n",
       "355               118.0                 112   679.010010  \n",
       "453               120.0                 119  1923.979980  \n",
       "454               121.0                 119  2150.189941  "
      ]
     },
     "execution_count": 32,
     "metadata": {},
     "output_type": "execute_result"
    }
   ],
   "source": [
    "products[(products.price < 100000) & (products.price > 1000)].head(3) #expensive products with high price"
   ]
  },
  {
   "cell_type": "markdown",
   "metadata": {},
   "source": [
    "### **ALso we have noticed that there are some purchases with quantity more than 1, that means that some people buy the same product more than once. We can analyze it and it will help our model to make predictions for these people better : because if they buy this particular product often there is more chance that they will buy it again**"
   ]
  },
  {
   "cell_type": "code",
   "execution_count": 33,
   "metadata": {},
   "outputs": [
    {
     "data": {
      "text/plain": [
       "repeated\n",
       "False    297949\n",
       "True       5718\n",
       "Name: user_id, dtype: int64"
      ]
     },
     "execution_count": 33,
     "metadata": {},
     "output_type": "execute_result"
    }
   ],
   "source": [
    "repeat_customers = products[products.quantity >10]\n",
    "\n",
    "products['repeated'] = (products.quantity >= 10)\n",
    "products.groupby(['repeated'])['user_id'].count()"
   ]
  },
  {
   "cell_type": "markdown",
   "metadata": {},
   "source": [
    "### **We need to create a column with a number of purshaces for every customer**"
   ]
  },
  {
   "cell_type": "code",
   "execution_count": 34,
   "metadata": {},
   "outputs": [
    {
     "data": {
      "text/plain": [
       "147"
      ]
     },
     "execution_count": 34,
     "metadata": {},
     "output_type": "execute_result"
    }
   ],
   "source": [
    "number_purchases = products.groupby(['user_id'])['order_id'].count()\n",
    "products1 = pd.merge(products,number_purchases,on = 'user_id')\n",
    "products1 = products1.rename(columns = {'order_id_y':'num_purchases', 'order_id_x' :'order_id'})\n",
    "products = products1\n",
    "products.num_purchases.nunique()\n"
   ]
  },
  {
   "cell_type": "markdown",
   "metadata": {},
   "source": [
    "### **There are some columns with quantity = 1 but still with high cost_real. That means that these people buy something in huge portion for once, probably it is people who have their oun markets or cafe. Let't determine them**"
   ]
  },
  {
   "cell_type": "code",
   "execution_count": 35,
   "metadata": {},
   "outputs": [
    {
     "data": {
      "text/html": [
       "<div>\n",
       "<style scoped>\n",
       "    .dataframe tbody tr th:only-of-type {\n",
       "        vertical-align: middle;\n",
       "    }\n",
       "\n",
       "    .dataframe tbody tr th {\n",
       "        vertical-align: top;\n",
       "    }\n",
       "\n",
       "    .dataframe thead th {\n",
       "        text-align: right;\n",
       "    }\n",
       "</style>\n",
       "<table border=\"1\" class=\"dataframe\">\n",
       "  <thead>\n",
       "    <tr style=\"text-align: right;\">\n",
       "      <th></th>\n",
       "      <th>user_id</th>\n",
       "      <th>order_id</th>\n",
       "      <th>line_item_id</th>\n",
       "      <th>price</th>\n",
       "      <th>quantity</th>\n",
       "      <th>discount</th>\n",
       "      <th>product_name</th>\n",
       "      <th>product_id</th>\n",
       "      <th>brand_name</th>\n",
       "      <th>master_category_id</th>\n",
       "      <th>parent_category_id</th>\n",
       "      <th>cost_real</th>\n",
       "      <th>repeated</th>\n",
       "      <th>num_purchases</th>\n",
       "    </tr>\n",
       "  </thead>\n",
       "  <tbody>\n",
       "    <tr>\n",
       "      <th>9653</th>\n",
       "      <td>36923</td>\n",
       "      <td>5559719</td>\n",
       "      <td>28574203</td>\n",
       "      <td>2700.0</td>\n",
       "      <td>2</td>\n",
       "      <td>0.0</td>\n",
       "      <td>Кастрюля Aro 13,5 л</td>\n",
       "      <td>81498</td>\n",
       "      <td>Aro</td>\n",
       "      <td>292.0</td>\n",
       "      <td>291</td>\n",
       "      <td>5400.0</td>\n",
       "      <td>False</td>\n",
       "      <td>35</td>\n",
       "    </tr>\n",
       "    <tr>\n",
       "      <th>10450</th>\n",
       "      <td>38943</td>\n",
       "      <td>5471510</td>\n",
       "      <td>28421789</td>\n",
       "      <td>6000.0</td>\n",
       "      <td>1</td>\n",
       "      <td>0.0</td>\n",
       "      <td>Набор посуды Tefal Intuition нержавеющая сталь...</td>\n",
       "      <td>92961</td>\n",
       "      <td>Tefal</td>\n",
       "      <td>334.0</td>\n",
       "      <td>321</td>\n",
       "      <td>6000.0</td>\n",
       "      <td>False</td>\n",
       "      <td>31</td>\n",
       "    </tr>\n",
       "  </tbody>\n",
       "</table>\n",
       "</div>"
      ],
      "text/plain": [
       "       user_id  order_id  line_item_id   price  quantity  discount  \\\n",
       "9653     36923   5559719      28574203  2700.0         2       0.0   \n",
       "10450    38943   5471510      28421789  6000.0         1       0.0   \n",
       "\n",
       "                                            product_name  product_id  \\\n",
       "9653                                 Кастрюля Aro 13,5 л       81498   \n",
       "10450  Набор посуды Tefal Intuition нержавеющая сталь...       92961   \n",
       "\n",
       "      brand_name  master_category_id  parent_category_id  cost_real  repeated  \\\n",
       "9653         Aro               292.0                 291     5400.0     False   \n",
       "10450      Tefal               334.0                 321     6000.0     False   \n",
       "\n",
       "       num_purchases  \n",
       "9653              35  \n",
       "10450             31  "
      ]
     },
     "execution_count": 35,
     "metadata": {},
     "output_type": "execute_result"
    }
   ],
   "source": [
    "opt_customers = products[(products.cost_real > 5000) & (products.quantity < 5)] \n",
    "opt_customers.head(2)\n"
   ]
  },
  {
   "cell_type": "markdown",
   "metadata": {},
   "source": [
    "### We found 38 wholesalers"
   ]
  },
  {
   "cell_type": "markdown",
   "metadata": {},
   "source": [
    "### If we think about purchases with little quatity and high cost it is possible that these people bought something big and exensive like technics (fridge,TV, etc). Let's create additional bool column for such people"
   ]
  },
  {
   "cell_type": "code",
   "execution_count": 36,
   "metadata": {},
   "outputs": [
    {
     "data": {
      "text/plain": [
       "technics\n",
       "False    303647\n",
       "True         20\n",
       "Name: user_id, dtype: int64"
      ]
     },
     "execution_count": 36,
     "metadata": {},
     "output_type": "execute_result"
    }
   ],
   "source": [
    "products['technics'] = (products.cost_real > 5000) & (products.num_purchases < 5) \n",
    "products.groupby(['technics'])['user_id'].count()"
   ]
  },
  {
   "cell_type": "markdown",
   "metadata": {},
   "source": [
    "###  **There are a lot of people who are making their purchases according to the discount. We have decided to find out all people who prefer items with discount. Let's add another bool column \"Prefer_Discounts\"** "
   ]
  },
  {
   "cell_type": "code",
   "execution_count": 37,
   "metadata": {},
   "outputs": [],
   "source": [
    "discounts_sum = products.groupby(['user_id'],as_index = False)['discount'].sum()\n",
    "discounts1= pd.merge(products,discounts_sum,on = 'user_id')\n",
    "discounts1 = discounts1.rename(columns = {'discount_x':'discount', 'discount_y' :'discount_total'})\n",
    "products = discounts1\n"
   ]
  },
  {
   "cell_type": "code",
   "execution_count": 38,
   "metadata": {},
   "outputs": [
    {
     "data": {
      "text/html": [
       "<div>\n",
       "<style scoped>\n",
       "    .dataframe tbody tr th:only-of-type {\n",
       "        vertical-align: middle;\n",
       "    }\n",
       "\n",
       "    .dataframe tbody tr th {\n",
       "        vertical-align: top;\n",
       "    }\n",
       "\n",
       "    .dataframe thead th {\n",
       "        text-align: right;\n",
       "    }\n",
       "</style>\n",
       "<table border=\"1\" class=\"dataframe\">\n",
       "  <thead>\n",
       "    <tr style=\"text-align: right;\">\n",
       "      <th></th>\n",
       "      <th>user_id</th>\n",
       "      <th>order_id</th>\n",
       "      <th>line_item_id</th>\n",
       "      <th>price</th>\n",
       "      <th>quantity</th>\n",
       "      <th>discount</th>\n",
       "      <th>product_name</th>\n",
       "      <th>product_id</th>\n",
       "      <th>brand_name</th>\n",
       "      <th>master_category_id</th>\n",
       "      <th>parent_category_id</th>\n",
       "      <th>cost_real</th>\n",
       "      <th>repeated</th>\n",
       "      <th>num_purchases</th>\n",
       "      <th>technics</th>\n",
       "      <th>discount_total</th>\n",
       "    </tr>\n",
       "  </thead>\n",
       "  <tbody>\n",
       "    <tr>\n",
       "      <th>0</th>\n",
       "      <td>525</td>\n",
       "      <td>5354800</td>\n",
       "      <td>28381452</td>\n",
       "      <td>116.000000</td>\n",
       "      <td>4</td>\n",
       "      <td>0.00</td>\n",
       "      <td>Лазанья Золотой Петушок мясной слоеный пирог з...</td>\n",
       "      <td>37548</td>\n",
       "      <td>Золотой Петушок</td>\n",
       "      <td>101.0</td>\n",
       "      <td>99</td>\n",
       "      <td>464.000000</td>\n",
       "      <td>False</td>\n",
       "      <td>14</td>\n",
       "      <td>False</td>\n",
       "      <td>630.080004</td>\n",
       "    </tr>\n",
       "    <tr>\n",
       "      <th>1</th>\n",
       "      <td>525</td>\n",
       "      <td>5354800</td>\n",
       "      <td>29242911</td>\n",
       "      <td>56.990002</td>\n",
       "      <td>2</td>\n",
       "      <td>13.08</td>\n",
       "      <td>Хлеб Хлебный Дом Геркулес зерновой с отрубями ...</td>\n",
       "      <td>5636</td>\n",
       "      <td>Хлебный Дом</td>\n",
       "      <td>596.0</td>\n",
       "      <td>51</td>\n",
       "      <td>87.820004</td>\n",
       "      <td>False</td>\n",
       "      <td>14</td>\n",
       "      <td>False</td>\n",
       "      <td>630.080004</td>\n",
       "    </tr>\n",
       "  </tbody>\n",
       "</table>\n",
       "</div>"
      ],
      "text/plain": [
       "   user_id  order_id  line_item_id       price  quantity  discount  \\\n",
       "0      525   5354800      28381452  116.000000         4      0.00   \n",
       "1      525   5354800      29242911   56.990002         2     13.08   \n",
       "\n",
       "                                        product_name  product_id  \\\n",
       "0  Лазанья Золотой Петушок мясной слоеный пирог з...       37548   \n",
       "1  Хлеб Хлебный Дом Геркулес зерновой с отрубями ...        5636   \n",
       "\n",
       "        brand_name  master_category_id  parent_category_id   cost_real  \\\n",
       "0  Золотой Петушок               101.0                  99  464.000000   \n",
       "1      Хлебный Дом               596.0                  51   87.820004   \n",
       "\n",
       "   repeated  num_purchases  technics  discount_total  \n",
       "0     False             14     False      630.080004  \n",
       "1     False             14     False      630.080004  "
      ]
     },
     "execution_count": 38,
     "metadata": {},
     "output_type": "execute_result"
    }
   ],
   "source": [
    "products.head(2)"
   ]
  },
  {
   "cell_type": "code",
   "execution_count": 39,
   "metadata": {},
   "outputs": [],
   "source": [
    "products['prefer_discounts'] = (products.discount_total > products.discount_total.mean())"
   ]
  },
  {
   "cell_type": "code",
   "execution_count": 40,
   "metadata": {},
   "outputs": [
    {
     "data": {
      "text/plain": [
       "False    199140\n",
       "True     104527\n",
       "Name: prefer_discounts, dtype: int64"
      ]
     },
     "execution_count": 40,
     "metadata": {},
     "output_type": "execute_result"
    }
   ],
   "source": [
    "products.prefer_discounts.value_counts()"
   ]
  },
  {
   "cell_type": "code",
   "execution_count": 41,
   "metadata": {},
   "outputs": [
    {
     "data": {
      "text/html": [
       "<div>\n",
       "<style scoped>\n",
       "    .dataframe tbody tr th:only-of-type {\n",
       "        vertical-align: middle;\n",
       "    }\n",
       "\n",
       "    .dataframe tbody tr th {\n",
       "        vertical-align: top;\n",
       "    }\n",
       "\n",
       "    .dataframe thead th {\n",
       "        text-align: right;\n",
       "    }\n",
       "</style>\n",
       "<table border=\"1\" class=\"dataframe\">\n",
       "  <thead>\n",
       "    <tr style=\"text-align: right;\">\n",
       "      <th></th>\n",
       "      <th>user_id</th>\n",
       "      <th>order_id</th>\n",
       "      <th>line_item_id</th>\n",
       "      <th>price</th>\n",
       "      <th>quantity</th>\n",
       "      <th>discount</th>\n",
       "      <th>product_name</th>\n",
       "      <th>product_id</th>\n",
       "      <th>brand_name</th>\n",
       "      <th>master_category_id</th>\n",
       "      <th>parent_category_id</th>\n",
       "      <th>cost_real</th>\n",
       "      <th>repeated</th>\n",
       "      <th>num_purchases</th>\n",
       "      <th>technics</th>\n",
       "      <th>discount_total</th>\n",
       "      <th>prefer_discounts</th>\n",
       "    </tr>\n",
       "  </thead>\n",
       "  <tbody>\n",
       "    <tr>\n",
       "      <th>193159</th>\n",
       "      <td>479237</td>\n",
       "      <td>5408390</td>\n",
       "      <td>28839695</td>\n",
       "      <td>86.0</td>\n",
       "      <td>1</td>\n",
       "      <td>0.0</td>\n",
       "      <td>Яйцо перепелиное Qegg для детского питания 20 шт</td>\n",
       "      <td>14844</td>\n",
       "      <td>Qegg</td>\n",
       "      <td>34.0</td>\n",
       "      <td>20</td>\n",
       "      <td>86.0</td>\n",
       "      <td>False</td>\n",
       "      <td>24</td>\n",
       "      <td>False</td>\n",
       "      <td>94.060001</td>\n",
       "      <td>False</td>\n",
       "    </tr>\n",
       "    <tr>\n",
       "      <th>145236</th>\n",
       "      <td>340235</td>\n",
       "      <td>5636406</td>\n",
       "      <td>29225363</td>\n",
       "      <td>249.0</td>\n",
       "      <td>1</td>\n",
       "      <td>0.0</td>\n",
       "      <td>Колбаса Велком Краковская полукопченая 450 г</td>\n",
       "      <td>31491</td>\n",
       "      <td>Велком</td>\n",
       "      <td>44.0</td>\n",
       "      <td>42</td>\n",
       "      <td>249.0</td>\n",
       "      <td>False</td>\n",
       "      <td>48</td>\n",
       "      <td>False</td>\n",
       "      <td>1540.549995</td>\n",
       "      <td>True</td>\n",
       "    </tr>\n",
       "  </tbody>\n",
       "</table>\n",
       "</div>"
      ],
      "text/plain": [
       "        user_id  order_id  line_item_id  price  quantity  discount  \\\n",
       "193159   479237   5408390      28839695   86.0         1       0.0   \n",
       "145236   340235   5636406      29225363  249.0         1       0.0   \n",
       "\n",
       "                                            product_name  product_id  \\\n",
       "193159  Яйцо перепелиное Qegg для детского питания 20 шт       14844   \n",
       "145236      Колбаса Велком Краковская полукопченая 450 г       31491   \n",
       "\n",
       "       brand_name  master_category_id  parent_category_id  cost_real  \\\n",
       "193159       Qegg                34.0                  20       86.0   \n",
       "145236     Велком                44.0                  42      249.0   \n",
       "\n",
       "        repeated  num_purchases  technics  discount_total  prefer_discounts  \n",
       "193159     False             24     False       94.060001             False  \n",
       "145236     False             48     False     1540.549995              True  "
      ]
     },
     "execution_count": 41,
     "metadata": {},
     "output_type": "execute_result"
    }
   ],
   "source": [
    "products.sample(2)"
   ]
  },
  {
   "cell_type": "markdown",
   "metadata": {},
   "source": [
    "### **There are also families who have big check, they buy a lot of products for one time. We can find them. Now when we have number of items per user we can detect a families. They buy a lot of products for once so we can group them according do order_id and high number of items in order**"
   ]
  },
  {
   "cell_type": "markdown",
   "metadata": {},
   "source": [
    "### Also there is an idea to separate customers into three groups : 1,2,3 level of earning according to people's purchases cost and suggest a person to buy some products from separate price intervals"
   ]
  },
  {
   "cell_type": "markdown",
   "metadata": {},
   "source": [
    "That feature is in our plans for future(more powerful) predictions"
   ]
  },
  {
   "cell_type": "markdown",
   "metadata": {},
   "source": [
    "### **There are also some favourite products for each individual. It is more possible that person buy something from the list of favourites. Let's find the list of the most popular products**"
   ]
  },
  {
   "cell_type": "code",
   "execution_count": 42,
   "metadata": {},
   "outputs": [
    {
     "data": {
      "text/plain": [
       "9152094"
      ]
     },
     "execution_count": 42,
     "metadata": {},
     "output_type": "execute_result"
    }
   ],
   "source": [
    "popular_product_id = products.groupby(['product_id'],as_index = False)['user_id'].count()\n",
    "popular_product_id = sorted(popular_product_id.values[:,0], reverse=True)\n",
    "popular_product_id[50]"
   ]
  },
  {
   "cell_type": "code",
   "execution_count": 43,
   "metadata": {},
   "outputs": [
    {
     "data": {
      "text/plain": [
       "array(['Сырок творожный глазированный Б.Ю. Александров 25 г х 6 шт',\n",
       "       'Сырок творожный глазированный Б.Ю. Александров 25 г х 6 шт',\n",
       "       'Сырок творожный глазированный Б.Ю. Александров 25 г х 6 шт',\n",
       "       'Сырок творожный глазированный Б.Ю. Александров 25 г х 6 шт',\n",
       "       'Сырок творожный глазированный Б.Ю. Александров 25 г х 6 шт',\n",
       "       'Сырок творожный глазированный Б.Ю. Александров 25 г х 6 шт',\n",
       "       'Сырок творожный глазированный Б.Ю. Александров 25 г х 6 шт',\n",
       "       'Сырок творожный глазированный Б.Ю. Александров 25 г х 6 шт',\n",
       "       'Сырок творожный глазированный Б.Ю. Александров 25 г х 6 шт',\n",
       "       'Сырок творожный глазированный Б.Ю. Александров 25 г х 6 шт'],\n",
       "      dtype=object)"
      ]
     },
     "execution_count": 43,
     "metadata": {},
     "output_type": "execute_result"
    }
   ],
   "source": [
    "products.product_name[products.product_id == popular_product_id[50]].values"
   ]
  },
  {
   "cell_type": "code",
   "execution_count": 44,
   "metadata": {},
   "outputs": [],
   "source": [
    "popular_products_names = []\n",
    "for i in range(50):\n",
    "    popular_products_names.append(products.product_name[products.product_id == popular_product_id[i]].values[0])"
   ]
  },
  {
   "cell_type": "markdown",
   "metadata": {},
   "source": [
    "### Before we start with categories let's take a look on how our products dataset is looking now"
   ]
  },
  {
   "cell_type": "code",
   "execution_count": 45,
   "metadata": {},
   "outputs": [
    {
     "data": {
      "text/html": [
       "<div>\n",
       "<style scoped>\n",
       "    .dataframe tbody tr th:only-of-type {\n",
       "        vertical-align: middle;\n",
       "    }\n",
       "\n",
       "    .dataframe tbody tr th {\n",
       "        vertical-align: top;\n",
       "    }\n",
       "\n",
       "    .dataframe thead th {\n",
       "        text-align: right;\n",
       "    }\n",
       "</style>\n",
       "<table border=\"1\" class=\"dataframe\">\n",
       "  <thead>\n",
       "    <tr style=\"text-align: right;\">\n",
       "      <th></th>\n",
       "      <th>user_id</th>\n",
       "      <th>order_id</th>\n",
       "      <th>line_item_id</th>\n",
       "      <th>price</th>\n",
       "      <th>quantity</th>\n",
       "      <th>discount</th>\n",
       "      <th>product_name</th>\n",
       "      <th>product_id</th>\n",
       "      <th>brand_name</th>\n",
       "      <th>master_category_id</th>\n",
       "      <th>parent_category_id</th>\n",
       "      <th>cost_real</th>\n",
       "      <th>repeated</th>\n",
       "      <th>num_purchases</th>\n",
       "      <th>technics</th>\n",
       "      <th>discount_total</th>\n",
       "      <th>prefer_discounts</th>\n",
       "    </tr>\n",
       "  </thead>\n",
       "  <tbody>\n",
       "    <tr>\n",
       "      <th>77171</th>\n",
       "      <td>218423</td>\n",
       "      <td>5394922</td>\n",
       "      <td>27547079</td>\n",
       "      <td>219.000000</td>\n",
       "      <td>1</td>\n",
       "      <td>90.0</td>\n",
       "      <td>Кокосовый напиток Alpro с рисом 0,9% 1 л</td>\n",
       "      <td>20072</td>\n",
       "      <td>Alpro</td>\n",
       "      <td>23.0</td>\n",
       "      <td>20</td>\n",
       "      <td>129.000000</td>\n",
       "      <td>False</td>\n",
       "      <td>66</td>\n",
       "      <td>False</td>\n",
       "      <td>1793.969983</td>\n",
       "      <td>True</td>\n",
       "    </tr>\n",
       "    <tr>\n",
       "      <th>91356</th>\n",
       "      <td>252749</td>\n",
       "      <td>5467498</td>\n",
       "      <td>28916266</td>\n",
       "      <td>145.000000</td>\n",
       "      <td>1</td>\n",
       "      <td>0.0</td>\n",
       "      <td>Голубика Fine Life быстрозамороженная 300 г</td>\n",
       "      <td>4831077</td>\n",
       "      <td>Fine Life</td>\n",
       "      <td>592.0</td>\n",
       "      <td>90</td>\n",
       "      <td>145.000000</td>\n",
       "      <td>False</td>\n",
       "      <td>53</td>\n",
       "      <td>False</td>\n",
       "      <td>536.890003</td>\n",
       "      <td>False</td>\n",
       "    </tr>\n",
       "    <tr>\n",
       "      <th>255314</th>\n",
       "      <td>701421</td>\n",
       "      <td>5322661</td>\n",
       "      <td>28129947</td>\n",
       "      <td>92.199997</td>\n",
       "      <td>1</td>\n",
       "      <td>0.0</td>\n",
       "      <td>Фасоль Bonduelle красная</td>\n",
       "      <td>1749</td>\n",
       "      <td>Bonduelle</td>\n",
       "      <td>625.0</td>\n",
       "      <td>67</td>\n",
       "      <td>92.199997</td>\n",
       "      <td>False</td>\n",
       "      <td>92</td>\n",
       "      <td>False</td>\n",
       "      <td>957.169991</td>\n",
       "      <td>False</td>\n",
       "    </tr>\n",
       "  </tbody>\n",
       "</table>\n",
       "</div>"
      ],
      "text/plain": [
       "        user_id  order_id  line_item_id       price  quantity  discount  \\\n",
       "77171    218423   5394922      27547079  219.000000         1      90.0   \n",
       "91356    252749   5467498      28916266  145.000000         1       0.0   \n",
       "255314   701421   5322661      28129947   92.199997         1       0.0   \n",
       "\n",
       "                                       product_name  product_id brand_name  \\\n",
       "77171      Кокосовый напиток Alpro с рисом 0,9% 1 л       20072      Alpro   \n",
       "91356   Голубика Fine Life быстрозамороженная 300 г     4831077  Fine Life   \n",
       "255314                     Фасоль Bonduelle красная        1749  Bonduelle   \n",
       "\n",
       "        master_category_id  parent_category_id   cost_real  repeated  \\\n",
       "77171                 23.0                  20  129.000000     False   \n",
       "91356                592.0                  90  145.000000     False   \n",
       "255314               625.0                  67   92.199997     False   \n",
       "\n",
       "        num_purchases  technics  discount_total  prefer_discounts  \n",
       "77171              66     False     1793.969983              True  \n",
       "91356              53     False      536.890003             False  \n",
       "255314             92     False      957.169991             False  "
      ]
     },
     "execution_count": 45,
     "metadata": {},
     "output_type": "execute_result"
    }
   ],
   "source": [
    "products.sample(3)"
   ]
  },
  {
   "cell_type": "markdown",
   "metadata": {},
   "source": [
    "//------------------------------------------------------------------------------------------------------------------------//"
   ]
  },
  {
   "cell_type": "markdown",
   "metadata": {},
   "source": [
    "### Let's analyze the rest of datasets"
   ]
  },
  {
   "cell_type": "markdown",
   "metadata": {},
   "source": [
    "### Categories"
   ]
  },
  {
   "cell_type": "code",
   "execution_count": 62,
   "metadata": {},
   "outputs": [
    {
     "data": {
      "text/html": [
       "<div>\n",
       "<style scoped>\n",
       "    .dataframe tbody tr th:only-of-type {\n",
       "        vertical-align: middle;\n",
       "    }\n",
       "\n",
       "    .dataframe tbody tr th {\n",
       "        vertical-align: top;\n",
       "    }\n",
       "\n",
       "    .dataframe thead th {\n",
       "        text-align: right;\n",
       "    }\n",
       "</style>\n",
       "<table border=\"1\" class=\"dataframe\">\n",
       "  <thead>\n",
       "    <tr style=\"text-align: right;\">\n",
       "      <th></th>\n",
       "      <th>id</th>\n",
       "      <th>name</th>\n",
       "      <th>parent_id</th>\n",
       "    </tr>\n",
       "  </thead>\n",
       "  <tbody>\n",
       "    <tr>\n",
       "      <th>77</th>\n",
       "      <td>78</td>\n",
       "      <td>Чай холодный</td>\n",
       "      <td>74</td>\n",
       "    </tr>\n",
       "    <tr>\n",
       "      <th>366</th>\n",
       "      <td>367</td>\n",
       "      <td>Маркеры и фломастеры</td>\n",
       "      <td>365</td>\n",
       "    </tr>\n",
       "    <tr>\n",
       "      <th>981</th>\n",
       "      <td>982</td>\n",
       "      <td>Батуты</td>\n",
       "      <td>554</td>\n",
       "    </tr>\n",
       "    <tr>\n",
       "      <th>378</th>\n",
       "      <td>379</td>\n",
       "      <td>Канцелярские ножницы и ножи</td>\n",
       "      <td>377</td>\n",
       "    </tr>\n",
       "    <tr>\n",
       "      <th>619</th>\n",
       "      <td>620</td>\n",
       "      <td>Сыры с плесенью</td>\n",
       "      <td>480</td>\n",
       "    </tr>\n",
       "  </tbody>\n",
       "</table>\n",
       "</div>"
      ],
      "text/plain": [
       "      id                         name  parent_id\n",
       "77    78                 Чай холодный         74\n",
       "366  367         Маркеры и фломастеры        365\n",
       "981  982                       Батуты        554\n",
       "378  379  Канцелярские ножницы и ножи        377\n",
       "619  620              Сыры с плесенью        480"
      ]
     },
     "execution_count": 62,
     "metadata": {},
     "output_type": "execute_result"
    }
   ],
   "source": [
    "categories= pd.read_csv(r'C:/Users/zvere/Sber/test-recsys/kaggle_tab_1345/tab_3_categories.csv')\n",
    "categories.sample(5)\n",
    "\n"
   ]
  },
  {
   "cell_type": "code",
   "execution_count": 64,
   "metadata": {},
   "outputs": [
    {
     "data": {
      "text/plain": [
       "id           1016\n",
       "name          947\n",
       "parent_id     140\n",
       "dtype: int64"
      ]
     },
     "execution_count": 64,
     "metadata": {},
     "output_type": "execute_result"
    }
   ],
   "source": [
    "categories.nunique()"
   ]
  },
  {
   "cell_type": "markdown",
   "metadata": {},
   "source": [
    "### We have too many different products to make clusters from it but we can make clusters according to category (1016 clusters) and build our model on it"
   ]
  },
  {
   "cell_type": "markdown",
   "metadata": {},
   "source": [
    "//------------------------------------------------------------------------------------------------------------------------//"
   ]
  },
  {
   "cell_type": "markdown",
   "metadata": {},
   "source": [
    "### User profiles"
   ]
  },
  {
   "cell_type": "code",
   "execution_count": 47,
   "metadata": {},
   "outputs": [
    {
     "data": {
      "text/html": [
       "<div>\n",
       "<style scoped>\n",
       "    .dataframe tbody tr th:only-of-type {\n",
       "        vertical-align: middle;\n",
       "    }\n",
       "\n",
       "    .dataframe tbody tr th {\n",
       "        vertical-align: top;\n",
       "    }\n",
       "\n",
       "    .dataframe thead th {\n",
       "        text-align: right;\n",
       "    }\n",
       "</style>\n",
       "<table border=\"1\" class=\"dataframe\">\n",
       "  <thead>\n",
       "    <tr style=\"text-align: right;\">\n",
       "      <th></th>\n",
       "      <th>user_id</th>\n",
       "      <th>gender</th>\n",
       "      <th>bdate</th>\n",
       "    </tr>\n",
       "  </thead>\n",
       "  <tbody>\n",
       "    <tr>\n",
       "      <th>438492</th>\n",
       "      <td>3423006</td>\n",
       "      <td>female</td>\n",
       "      <td>1988-05-07</td>\n",
       "    </tr>\n",
       "    <tr>\n",
       "      <th>35844</th>\n",
       "      <td>855184</td>\n",
       "      <td>NaN</td>\n",
       "      <td>NaN</td>\n",
       "    </tr>\n",
       "    <tr>\n",
       "      <th>10599</th>\n",
       "      <td>2255845</td>\n",
       "      <td>NaN</td>\n",
       "      <td>NaN</td>\n",
       "    </tr>\n",
       "    <tr>\n",
       "      <th>308105</th>\n",
       "      <td>3137672</td>\n",
       "      <td>female</td>\n",
       "      <td>1995-01-09</td>\n",
       "    </tr>\n",
       "    <tr>\n",
       "      <th>142468</th>\n",
       "      <td>2701572</td>\n",
       "      <td>NaN</td>\n",
       "      <td>NaN</td>\n",
       "    </tr>\n",
       "  </tbody>\n",
       "</table>\n",
       "</div>"
      ],
      "text/plain": [
       "        user_id  gender       bdate\n",
       "438492  3423006  female  1988-05-07\n",
       "35844    855184     NaN         NaN\n",
       "10599   2255845     NaN         NaN\n",
       "308105  3137672  female  1995-01-09\n",
       "142468  2701572     NaN         NaN"
      ]
     },
     "execution_count": 47,
     "metadata": {},
     "output_type": "execute_result"
    }
   ],
   "source": [
    "user_profiles = pd.read_csv(r'C:/Users/zvere/Sber/test-recsys/kaggle_tab_1345/tab_4_user_profiles.csv')\n",
    "user_profiles.sample(5)\n"
   ]
  },
  {
   "cell_type": "markdown",
   "metadata": {},
   "source": [
    "### There are some NaN values in the data. Let's take a look and calculate the number of NaNs in gender and bdate columns"
   ]
  },
  {
   "cell_type": "code",
   "execution_count": 48,
   "metadata": {},
   "outputs": [
    {
     "data": {
      "text/plain": [
       "True     231737\n",
       "False    207130\n",
       "Name: gender, dtype: int64"
      ]
     },
     "execution_count": 48,
     "metadata": {},
     "output_type": "execute_result"
    }
   ],
   "source": [
    "user_profiles.gender.isna().value_counts()"
   ]
  },
  {
   "cell_type": "code",
   "execution_count": 49,
   "metadata": {},
   "outputs": [
    {
     "data": {
      "text/plain": [
       "True     231880\n",
       "False    206987\n",
       "Name: bdate, dtype: int64"
      ]
     },
     "execution_count": 49,
     "metadata": {},
     "output_type": "execute_result"
    }
   ],
   "source": [
    "user_profiles.bdate.isna().value_counts()"
   ]
  },
  {
   "cell_type": "markdown",
   "metadata": {},
   "source": [
    "### There is more than a half of people who did not mentioned their info. That is not so informative dataset, but we can take a look on people who mentioned their info and they will probably spend more time reading and fulfilling something in the app than people who did not provide anything"
   ]
  },
  {
   "cell_type": "markdown",
   "metadata": {},
   "source": [
    "//------------------------------------------------------------------------------------------------------------------------//"
   ]
  },
  {
   "cell_type": "markdown",
   "metadata": {},
   "source": [
    "### Product properties"
   ]
  },
  {
   "cell_type": "code",
   "execution_count": 50,
   "metadata": {},
   "outputs": [
    {
     "data": {
      "text/html": [
       "<div>\n",
       "<style scoped>\n",
       "    .dataframe tbody tr th:only-of-type {\n",
       "        vertical-align: middle;\n",
       "    }\n",
       "\n",
       "    .dataframe tbody tr th {\n",
       "        vertical-align: top;\n",
       "    }\n",
       "\n",
       "    .dataframe thead th {\n",
       "        text-align: right;\n",
       "    }\n",
       "</style>\n",
       "<table border=\"1\" class=\"dataframe\">\n",
       "  <thead>\n",
       "    <tr style=\"text-align: right;\">\n",
       "      <th></th>\n",
       "      <th>product_id</th>\n",
       "      <th>property_name</th>\n",
       "      <th>property_value</th>\n",
       "    </tr>\n",
       "  </thead>\n",
       "  <tbody>\n",
       "    <tr>\n",
       "      <th>1754792</th>\n",
       "      <td>6784920</td>\n",
       "      <td>Совместимость с кухонной техникой</td>\n",
       "      <td>Посудомоечные машины</td>\n",
       "    </tr>\n",
       "    <tr>\n",
       "      <th>1804843</th>\n",
       "      <td>6827453</td>\n",
       "      <td>Состав</td>\n",
       "      <td>Свинина, вода, соль поваренная пищевая, пищева...</td>\n",
       "    </tr>\n",
       "    <tr>\n",
       "      <th>1168613</th>\n",
       "      <td>5075765</td>\n",
       "      <td>Вид молока</td>\n",
       "      <td>Коровье</td>\n",
       "    </tr>\n",
       "  </tbody>\n",
       "</table>\n",
       "</div>"
      ],
      "text/plain": [
       "         product_id                      property_name  \\\n",
       "1754792     6784920  Совместимость с кухонной техникой   \n",
       "1804843     6827453                             Состав   \n",
       "1168613     5075765                         Вид молока   \n",
       "\n",
       "                                            property_value  \n",
       "1754792                               Посудомоечные машины  \n",
       "1804843  Свинина, вода, соль поваренная пищевая, пищева...  \n",
       "1168613                                            Коровье  "
      ]
     },
     "execution_count": 50,
     "metadata": {},
     "output_type": "execute_result"
    }
   ],
   "source": [
    "product_properties = pd.read_csv(r'C:/Users/zvere/Sber/test-recsys/kaggle_tab_1345/tab_5_product_properties.csv')\n",
    "product_properties.sample(3)                              "
   ]
  },
  {
   "cell_type": "markdown",
   "metadata": {},
   "source": [
    "### Using the data from product properties dataset we can build strong and complicated model which will analyze property value (probably after making a clusters of products). That idea is also for future developments"
   ]
  },
  {
   "cell_type": "markdown",
   "metadata": {},
   "source": [
    "### From that point feature engeneering is stopped. There also a lot of good ideas that could be implemented in future but we need to focus on making first predictions using already existing features"
   ]
  },
  {
   "cell_type": "markdown",
   "metadata": {},
   "source": [
    "//------------------------------------------------------------------------------------------------------------------------//"
   ]
  },
  {
   "cell_type": "markdown",
   "metadata": {},
   "source": [
    "### Submission data"
   ]
  },
  {
   "cell_type": "code",
   "execution_count": 52,
   "metadata": {},
   "outputs": [
    {
     "data": {
      "text/html": [
       "<div>\n",
       "<style scoped>\n",
       "    .dataframe tbody tr th:only-of-type {\n",
       "        vertical-align: middle;\n",
       "    }\n",
       "\n",
       "    .dataframe tbody tr th {\n",
       "        vertical-align: top;\n",
       "    }\n",
       "\n",
       "    .dataframe thead th {\n",
       "        text-align: right;\n",
       "    }\n",
       "</style>\n",
       "<table border=\"1\" class=\"dataframe\">\n",
       "  <thead>\n",
       "    <tr style=\"text-align: right;\">\n",
       "      <th></th>\n",
       "      <th>Id</th>\n",
       "      <th>Predicted</th>\n",
       "    </tr>\n",
       "  </thead>\n",
       "  <tbody>\n",
       "    <tr>\n",
       "      <th>0</th>\n",
       "      <td>51</td>\n",
       "      <td>3239211 10720024 8493844 1965540 5009002 95218...</td>\n",
       "    </tr>\n",
       "    <tr>\n",
       "      <th>1</th>\n",
       "      <td>65</td>\n",
       "      <td>11693356 13392267 2464515 2245175 4748570 1134...</td>\n",
       "    </tr>\n",
       "    <tr>\n",
       "      <th>2</th>\n",
       "      <td>766</td>\n",
       "      <td>12773054 3692749 12726751 10041624 11893515 23...</td>\n",
       "    </tr>\n",
       "  </tbody>\n",
       "</table>\n",
       "</div>"
      ],
      "text/plain": [
       "    Id                                          Predicted\n",
       "0   51  3239211 10720024 8493844 1965540 5009002 95218...\n",
       "1   65  11693356 13392267 2464515 2245175 4748570 1134...\n",
       "2  766  12773054 3692749 12726751 10041624 11893515 23..."
      ]
     },
     "execution_count": 52,
     "metadata": {},
     "output_type": "execute_result"
    }
   ],
   "source": [
    "df = pd.read_csv(r'C:/Users/zvere/Sber/test-recsys/sample_submission.csv')\n",
    "df.head(3)"
   ]
  },
  {
   "cell_type": "code",
   "execution_count": 53,
   "metadata": {},
   "outputs": [],
   "source": [
    "#split the data\n",
    "from sklearn.model_selection import train_test_split"
   ]
  },
  {
   "cell_type": "code",
   "execution_count": 54,
   "metadata": {},
   "outputs": [],
   "source": [
    "numerical = ['price', 'quantity', 'discount','cost_real', 'num_purchases']\n",
    "categorical = ['user_id', 'order_id', 'product_id', 'repeated']"
   ]
  },
  {
   "cell_type": "code",
   "execution_count": 55,
   "metadata": {},
   "outputs": [],
   "source": [
    "y = df['Predicted']\n",
    "X = df['Id']"
   ]
  },
  {
   "cell_type": "code",
   "execution_count": 56,
   "metadata": {},
   "outputs": [],
   "source": [
    "X_train, X_test, y_train, y_test = train_test_split(X,y, test_size=0.5,random_state = 7)"
   ]
  },
  {
   "cell_type": "markdown",
   "metadata": {},
   "source": [
    "### The simpliest idea for a model is to choose 50 most popular products and predict that person will buy his products from that list"
   ]
  },
  {
   "cell_type": "code",
   "execution_count": 57,
   "metadata": {},
   "outputs": [
    {
     "data": {
      "text/plain": [
       "[13550713, 13550387, 13550375, 13550359, 13550321]"
      ]
     },
     "execution_count": 57,
     "metadata": {},
     "output_type": "execute_result"
    }
   ],
   "source": [
    "popular_id = popular_product_id[:50]\n",
    "popular_list = []\n",
    "popular_id[:5]"
   ]
  },
  {
   "cell_type": "code",
   "execution_count": 58,
   "metadata": {},
   "outputs": [
    {
     "name": "stderr",
     "output_type": "stream",
     "text": [
      "<ipython-input-58-872096aadfb2>:3: SettingWithCopyWarning: \n",
      "A value is trying to be set on a copy of a slice from a DataFrame\n",
      "\n",
      "See the caveats in the documentation: https://pandas.pydata.org/pandas-docs/stable/user_guide/indexing.html#returning-a-view-versus-a-copy\n",
      "  df.my_pred[i] = popular_id\n"
     ]
    }
   ],
   "source": [
    "df['my_pred'] = df.Predicted\n",
    "for i in range(len(df)):\n",
    "    df.my_pred[i] = popular_id\n",
    "df.drop('Predicted', axis=1, inplace=True)\n",
    "df = df.rename(columns = {'my_pred':'Predicted'} )"
   ]
  },
  {
   "cell_type": "code",
   "execution_count": 59,
   "metadata": {},
   "outputs": [],
   "source": [
    "df.to_csv('C:/Users/zvere/Sber/test-recsys/submission1.csv', index = False)"
   ]
  },
  {
   "cell_type": "code",
   "execution_count": 60,
   "metadata": {},
   "outputs": [
    {
     "data": {
      "text/html": [
       "<div>\n",
       "<style scoped>\n",
       "    .dataframe tbody tr th:only-of-type {\n",
       "        vertical-align: middle;\n",
       "    }\n",
       "\n",
       "    .dataframe tbody tr th {\n",
       "        vertical-align: top;\n",
       "    }\n",
       "\n",
       "    .dataframe thead th {\n",
       "        text-align: right;\n",
       "    }\n",
       "</style>\n",
       "<table border=\"1\" class=\"dataframe\">\n",
       "  <thead>\n",
       "    <tr style=\"text-align: right;\">\n",
       "      <th></th>\n",
       "      <th>Id</th>\n",
       "      <th>Predicted</th>\n",
       "    </tr>\n",
       "  </thead>\n",
       "  <tbody>\n",
       "    <tr>\n",
       "      <th>0</th>\n",
       "      <td>51</td>\n",
       "      <td>[13550713, 13550387, 13550375, 13550359, 13550...</td>\n",
       "    </tr>\n",
       "    <tr>\n",
       "      <th>1</th>\n",
       "      <td>65</td>\n",
       "      <td>[13550713, 13550387, 13550375, 13550359, 13550...</td>\n",
       "    </tr>\n",
       "    <tr>\n",
       "      <th>2</th>\n",
       "      <td>766</td>\n",
       "      <td>[13550713, 13550387, 13550375, 13550359, 13550...</td>\n",
       "    </tr>\n",
       "    <tr>\n",
       "      <th>3</th>\n",
       "      <td>1132</td>\n",
       "      <td>[13550713, 13550387, 13550375, 13550359, 13550...</td>\n",
       "    </tr>\n",
       "    <tr>\n",
       "      <th>4</th>\n",
       "      <td>1578</td>\n",
       "      <td>[13550713, 13550387, 13550375, 13550359, 13550...</td>\n",
       "    </tr>\n",
       "    <tr>\n",
       "      <th>...</th>\n",
       "      <td>...</td>\n",
       "      <td>...</td>\n",
       "    </tr>\n",
       "    <tr>\n",
       "      <th>107063</th>\n",
       "      <td>2997849</td>\n",
       "      <td>[13550713, 13550387, 13550375, 13550359, 13550...</td>\n",
       "    </tr>\n",
       "    <tr>\n",
       "      <th>107064</th>\n",
       "      <td>2997853</td>\n",
       "      <td>[13550713, 13550387, 13550375, 13550359, 13550...</td>\n",
       "    </tr>\n",
       "    <tr>\n",
       "      <th>107065</th>\n",
       "      <td>2997873</td>\n",
       "      <td>[13550713, 13550387, 13550375, 13550359, 13550...</td>\n",
       "    </tr>\n",
       "    <tr>\n",
       "      <th>107066</th>\n",
       "      <td>2997988</td>\n",
       "      <td>[13550713, 13550387, 13550375, 13550359, 13550...</td>\n",
       "    </tr>\n",
       "    <tr>\n",
       "      <th>107067</th>\n",
       "      <td>2998048</td>\n",
       "      <td>[13550713, 13550387, 13550375, 13550359, 13550...</td>\n",
       "    </tr>\n",
       "  </tbody>\n",
       "</table>\n",
       "<p>107068 rows × 2 columns</p>\n",
       "</div>"
      ],
      "text/plain": [
       "             Id                                          Predicted\n",
       "0            51  [13550713, 13550387, 13550375, 13550359, 13550...\n",
       "1            65  [13550713, 13550387, 13550375, 13550359, 13550...\n",
       "2           766  [13550713, 13550387, 13550375, 13550359, 13550...\n",
       "3          1132  [13550713, 13550387, 13550375, 13550359, 13550...\n",
       "4          1578  [13550713, 13550387, 13550375, 13550359, 13550...\n",
       "...         ...                                                ...\n",
       "107063  2997849  [13550713, 13550387, 13550375, 13550359, 13550...\n",
       "107064  2997853  [13550713, 13550387, 13550375, 13550359, 13550...\n",
       "107065  2997873  [13550713, 13550387, 13550375, 13550359, 13550...\n",
       "107066  2997988  [13550713, 13550387, 13550375, 13550359, 13550...\n",
       "107067  2998048  [13550713, 13550387, 13550375, 13550359, 13550...\n",
       "\n",
       "[107068 rows x 2 columns]"
      ]
     },
     "execution_count": 60,
     "metadata": {},
     "output_type": "execute_result"
    }
   ],
   "source": [
    "cols = ['Id', 'Predicted']\n",
    "for col in cols:\n",
    "    df[col] = df[col].map(lambda x :str(x))\n",
    "df"
   ]
  },
  {
   "cell_type": "markdown",
   "metadata": {},
   "source": [
    "### More complicated idea is to find the purchases person already made (and probably will buy it again), find out if a person prefer discounted products and mix products with discounts and from the past purschases + add some popular products"
   ]
  },
  {
   "cell_type": "markdown",
   "metadata": {},
   "source": [
    "### Also in our plans we analyze the retailer where person usually buy his purchases and collaborate all ideas from the model described above taking the desided retailer into account"
   ]
  }
 ],
 "metadata": {
  "kernelspec": {
   "display_name": "Python 3",
   "language": "python",
   "name": "python3"
  },
  "language_info": {
   "codemirror_mode": {
    "name": "ipython",
    "version": 3
   },
   "file_extension": ".py",
   "mimetype": "text/x-python",
   "name": "python",
   "nbconvert_exporter": "python",
   "pygments_lexer": "ipython3",
   "version": "3.8.5"
  }
 },
 "nbformat": 4,
 "nbformat_minor": 4
}
